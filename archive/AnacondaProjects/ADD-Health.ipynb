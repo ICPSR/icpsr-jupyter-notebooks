{
 "cells": [
  {
   "cell_type": "markdown",
   "metadata": {},
   "source": [
    "# National Longitudinal Study of Adolescent to Adult Health (Add Health), 1994-2008 [Public Use] (ICPSR 21600)\n"
   ]
  },
  {
   "cell_type": "markdown",
   "metadata": {},
   "source": [
    "#### DEMO R NOTEBOOK- This notebook is a demostration of how to use an interactive R notebook with the Add Health study"
   ]
  },
  {
   "cell_type": "markdown",
   "metadata": {},
   "source": [
    "## Principal Investigator(s):  Harris, Kathleen Mullan, University of North Carolina-Chapel Hill; Udry, J. Richard, University of North Carolina-Chapel Hill\n",
    "\n",
    "## Summary: \n",
    "The National Longitudinal Study of Adolescent to Adult Health (Add Health), 1994-2008 [Public Use] is a longitudinal study of a nationally representative sample of U.S. adolescents in grades 7 through 12 during the 1994-1995 school year. The Add Health cohort was followed into young adulthood with four in-home interviews, the most recent conducted in 2008 when the sample was aged 24-32. Add Health combines longitudinal survey data on respondents' social, economic, psychological, and physical well-being with contextual data on the family, neighborhood, community, school, friendships, peer groups, and romantic relationships.\n",
    "\n",
    "Add Health Wave I data collection took place between September 1994 and December 1995, and included both an in-school questionnaire and in-home interview. The in-school questionnaire was administered to more than 90,000 students in grades 7 through 12, and gathered information on social and demographic characteristics of adolescent respondents, education and occupation of parents, household structure, expectations for the future, self-esteem, health status, risk behaviors, friendships, and school-year extracurricular activities. All students listed on a sample school's roster were eligible for selection into the core in-home interview sample. In-home interviews included topics such as health status, health-facility utilization, nutrition, peer networks, decision-making processes, family composition and dynamics, educational aspirations and expectations, employment experience, romantic and sexual partnerships, substance use, and criminal activities. A parent, preferably the resident mother, of each adolescent respondent interviewed in Wave I was also asked to complete an interviewer-assisted questionnaire covering topics such as inheritable health conditions, marriages and marriage-like relationships, neighborhood characteristics, involvement in volunteer, civic, and school activities, health-affecting behaviors, education and employment, household income and economic assistance, parent-adolescent communication and interaction, parent's familiarity with the adolescent's friends and friends' parents.\n",
    "\n",
    "Add Health data collection recommenced for Wave II from April to August 1996, and included almost 15,000 follow-up in-home interviews with adolescents from Wave I. Interview questions were generally similar to Wave I, but also included questions about sun exposure and more detailed nutrition questions. Respondents were asked to report their height and weight during the course of the interview, and were also weighed and measured by the interviewer.\n",
    "\n",
    "From August 2001 to April 2002, Wave III data were collected through in-home interviews with 15,170 Wave I respondents (now 18 to 26 years old), as well as interviews with their partners. Respondents were administered survey questions designed to obtain information about family, relationships, sexual experiences, childbearing, and educational histories, labor force involvement, civic participation, religion and spirituality, mental health, health insurance, illness, delinquency and violence, gambling, substance abuse, and involvement with the criminal justice system. High School Transcript Release Forms were also collected at Wave III, and these data comprise the Education Data component of the Add Health study.\n",
    "\n",
    "Wave IV in-home interviews were conducted in 2008 and 2009 when the original Wave I respondents were 24 to 32 years old. Longitudinal survey data were collected on the social, economic, psychological, and health circumstances of respondents, as well as longitudinal geographic data. Survey questions were expanded on educational transitions, economic status and financial resources and strains, sleep patterns and sleep quality, eating habits and nutrition, illnesses and medications, physical activities, emotional content and quality of current or most recent romantic/cohabiting/marriage relationships, and maltreatment during childhood by caregivers. Dates and circumstances of key life events occurring in young adulthood were also recorded, including a complete marriage and cohabitation history, full pregnancy and fertility histories from both men and women, an educational history of dates of degrees and school attendance, contact with the criminal justice system, military service, and various employment events, including the date of first and current jobs, with respective information on occupation, industry, wages, hours, and benefits. Finally, physical measurements and biospecimens were also collected at Wave IV, and included anthropometric measures of weight, height and waist circumference, cardiovascular measures such as systolic blood pressure, diastolic blood pressure, and pulse, metabolic measures from dried blood spots assayed for lipids, glucose, and glycosylated hemoglobin (HbA1c), measures of inflammation and immune function, including High sensitivity C-reactive protein (hsCRP) and Epstein-Barr virus (EBV).\n",
    "\n",
    "## DataSet:\n",
    "This data is hosted locally ( will eventually be available on a github repository).\n",
    "\n",
    "## Citation\n",
    "Harris, Kathleen Mullan, and J. Richard Udry. National Longitudinal Study of Adolescent to Adult Health (Add Health), 1994-2008 [Public Use]. ICPSR21600-v17. Chapel Hill, NC: Carolina Population Center, University of North Carolina-Chapel Hill/Ann Arbor, MI: Inter-university Consortium for Political and Social Research [distributors], 2016-05-25. https://doi.org/10.3886/ICPSR21600.v17\n",
    "\n",
    "## Geographic Coverage : United States \n",
    "## Time Period : 1994-2008\n",
    "## Date of Collection: \n",
    "* 1994-01--1995-12\n",
    "* 1996-04--1996-09\n",
    "* 2001-04--2002-04\n",
    "* 2007-04--2009-01\n",
    "\n",
    "## Unit of Observation: Individual \n",
    "## Data Types(s) : Survey Data \n",
    "## Data Collection Notes:\n",
    "\n",
    "The current release represents a full collection update. All data and documentation files have been resupplied by the Principal Investigators and have been fully curated by ICPSR. ICPSR has revised dataset names and numbers to better reflect the organization of the collection by study wave. Users should be aware that version history notes dated prior to 2015-11-09 do not apply to the current organization of the datasets.\n"
   ]
  },
  {
   "cell_type": "code",
   "execution_count": 2,
   "metadata": {},
   "outputs": [
    {
     "data": {
      "text/html": [
       "<table>\n",
       "<thead><tr><th scope=col>AID</th><th scope=col>IMONTH</th><th scope=col>IDAY</th><th scope=col>IYEAR</th><th scope=col>SCH_YR</th><th scope=col>BIO_SEX</th><th scope=col>VERSION</th><th scope=col>SMP01</th><th scope=col>SMP03</th><th scope=col>H1GI1M</th><th scope=col>...</th><th scope=col>PD4A</th><th scope=col>PD4B</th><th scope=col>PD4C</th><th scope=col>PD4D</th><th scope=col>PD4E</th><th scope=col>PD4F</th><th scope=col>PD5</th><th scope=col>PD5A</th><th scope=col>AH_PVT</th><th scope=col>AH_RAW</th></tr></thead>\n",
       "<tbody>\n",
       "\t<tr><td>57100270</td><td>6       </td><td>23      </td><td>95      </td><td>1       </td><td>2       </td><td>4       </td><td>0       </td><td>1       </td><td>10      </td><td>...     </td><td> 7      </td><td> 7      </td><td> 7      </td><td> 7      </td><td> 7      </td><td> 7      </td><td> 1      </td><td> 1      </td><td> 86     </td><td>55      </td></tr>\n",
       "\t<tr><td>57101310</td><td>5       </td><td> 5      </td><td>95      </td><td>1       </td><td>2       </td><td>1       </td><td>1       </td><td>0       </td><td>11      </td><td>...     </td><td>NA      </td><td>NA      </td><td>NA      </td><td>NA      </td><td>NA      </td><td>NA      </td><td>NA      </td><td>NA      </td><td> 88     </td><td>58      </td></tr>\n",
       "\t<tr><td>57103171</td><td>6       </td><td>27      </td><td>95      </td><td>0       </td><td>1       </td><td>4       </td><td>1       </td><td>0       </td><td>10      </td><td>...     </td><td> 7      </td><td> 7      </td><td> 7      </td><td> 7      </td><td> 7      </td><td> 7      </td><td> 1      </td><td> 0      </td><td>120     </td><td>79      </td></tr>\n",
       "\t<tr><td>57103869</td><td>7       </td><td>14      </td><td>95      </td><td>0       </td><td>1       </td><td>4       </td><td>1       </td><td>0       </td><td> 1      </td><td>...     </td><td> 7      </td><td> 7      </td><td> 7      </td><td> 7      </td><td> 7      </td><td> 7      </td><td>NA      </td><td>NA      </td><td> 85     </td><td>56      </td></tr>\n",
       "\t<tr><td>57104553</td><td>7       </td><td>14      </td><td>95      </td><td>1       </td><td>2       </td><td>4       </td><td>1       </td><td>0       </td><td> 6      </td><td>...     </td><td> 7      </td><td> 7      </td><td> 7      </td><td> 7      </td><td> 7      </td><td> 7      </td><td> 1      </td><td> 0      </td><td> 90     </td><td>59      </td></tr>\n",
       "\t<tr><td>57104649</td><td>6       </td><td>12      </td><td>95      </td><td>1       </td><td>1       </td><td>3       </td><td>0       </td><td>1       </td><td>12      </td><td>...     </td><td> 7      </td><td> 7      </td><td> 7      </td><td> 7      </td><td> 7      </td><td> 7      </td><td> 1      </td><td> 0      </td><td> 99     </td><td>60      </td></tr>\n",
       "\t<tr><td>57104676</td><td>5       </td><td>31      </td><td>95      </td><td>1       </td><td>1       </td><td>3       </td><td>1       </td><td>0       </td><td>10      </td><td>...     </td><td> 7      </td><td> 7      </td><td> 7      </td><td> 7      </td><td> 7      </td><td> 7      </td><td> 1      </td><td> 0      </td><td> 93     </td><td>54      </td></tr>\n",
       "\t<tr><td>57109625</td><td>6       </td><td> 7      </td><td>95      </td><td>1       </td><td>1       </td><td>3       </td><td>1       </td><td>0       </td><td> 3      </td><td>...     </td><td> 7      </td><td> 7      </td><td> 7      </td><td> 7      </td><td> 7      </td><td> 7      </td><td> 1      </td><td> 0      </td><td> 87     </td><td>53      </td></tr>\n",
       "\t<tr><td>57110897</td><td>6       </td><td>27      </td><td>95      </td><td>0       </td><td>1       </td><td>4       </td><td>1       </td><td>0       </td><td> 9      </td><td>...     </td><td>NA      </td><td>NA      </td><td>NA      </td><td>NA      </td><td>NA      </td><td>NA      </td><td>NA      </td><td>NA      </td><td> 79     </td><td>47      </td></tr>\n",
       "\t<tr><td>57111071</td><td>8       </td><td> 3      </td><td>95      </td><td>0       </td><td>1       </td><td>5       </td><td>1       </td><td>0       </td><td> 6      </td><td>...     </td><td> 7      </td><td> 7      </td><td> 7      </td><td> 7      </td><td> 7      </td><td> 7      </td><td>NA      </td><td> 0      </td><td>113     </td><td>71      </td></tr>\n",
       "</tbody>\n",
       "</table>\n"
      ],
      "text/latex": [
       "\\begin{tabular}{r|llllllllllllllllllllllllllllllllllllllllllllllllllllllllllllllllllllllllllllllllllllllllllllllllllllllllllllllllllllllllllllllllllllllllllllllllllllllllllllllllllllllllllllllllllllllllllllllllllllllllllllllllllllllllllllllllllllllllllllllllllllllllllllllllllllllllllllllllllllllllllllllllllllllllllllllllllllllllllllllllllllllllllllllllllllllllllllllllllllllllllllllllllllllllllllllllllllllllllllllllllllllllllllllllllllllllllllllllllllllllllllllllllllllllllllllllllllllllllllllllllllllllllllllllllllllllllllllllllllllllllllllllllllllllllllllllllllllllllllllllllllllllllllllllllllllllllllllllllllllllllllllllllllllllllllllllllllllllllllllllllllllllllllllllllllllllllllllllllllllllllllllllllllllllllllllllllllllllllllllllllllllllllllllllllllllllllllllllllllllllllllllllllllllllllllllllllllllllllllllllllllllllllllllllllllllllllllllllllllllllllllllllllllllllllllllllllllllllllllllllllllllllllllllllllllllllllllllllllllllllllllllllllllllllllllllllllllllllllllllllllllllllllllllllllllllllllllllllllllllllllllllllllllllllllllllllllllllllllllllllllllllllllllllllllllllllllllllllllllllllllllllllllllllllllllllllllllllllllllllllllllllllllllllllllllllllllllllllllllllllllllllllllllllllllllllllllllllllllllllllllllllllllllllllllllllllllllllllllllllllllllllllllllllllllllllllllllllllllllllllllllllllllllllllllllllllllllllllllllllllllllllllllllllllllllllllllllllllllllllllllllllllllllllllllllllllllllllllllllllllllllllllllllllllllllllllllllllllllllllllllllllllllllllllllllllllllllllllllllllllllllllllllllllllllllllllllllllllllllllllllllllllllllllllllllllllllllllllllllllllllllllllllllllllllllllllllllllllllllllllllllllllllllllllllllllllllllllllllllllllllllllllllllllllllllllllllllllllllllllllllllllllllllllllllllllllllllllllllllllllllllllllllllllllllllllllllllllllllllllllllllllllllllllllllllllllllllllllllllllllllllllllllllllllllllllllllllllllllllllllllllllllllllllllllllllllllllllllllllllllllllllllllllllllllllllllllllllllllllllllllllllllllllllllllllllllllllllllllllllllllllllllllllllllllllllllllllllllllllllllllllllllllllllllllllllllllllllllllllllllllllllllllllllllllllllllllllllllllllllllllllllllllllllllllllllllllllllllllllllllllllllllllllllllllllllllllllllllllllllllllllllllllllllllllllllllllllllllllllllllllllllllllllllllllllllllllllllllllllllllllllllllllllllllllllllllllllllllllllllllllllllllllllllllllllllllllllllllllllllllllllllllllllllllllllllllllllllllllllllllllllllllllllllllllllllllllllllllllllllllllllllllllllllllllllllllllllllllllllllllllllllllllllllllllllllllllllllllllllllllllllllllllllllllllllllllllllllllllllllllllllllllllllllllllllllllllllllllllllllllllllllllllllllllllllllllllllllllllllllllllllllllllllllllllllllllllllllllllllllllllllllllllllllllllllllllllllllllllllllllllllllllllllllllllllllllllllllllllllllllllllllllllllllllllllllllllllllllllllllllllllllllllllllllllllllllllllllllll}\n",
       " AID & IMONTH & IDAY & IYEAR & SCH\\_YR & BIO\\_SEX & VERSION & SMP01 & SMP03 & H1GI1M & ... & PD4A & PD4B & PD4C & PD4D & PD4E & PD4F & PD5 & PD5A & AH\\_PVT & AH\\_RAW\\\\\n",
       "\\hline\n",
       "\t 57100270 & 6        & 23       & 95       & 1        & 2        & 4        & 0        & 1        & 10       & ...      &  7       &  7       &  7       &  7       &  7       &  7       &  1       &  1       &  86      & 55      \\\\\n",
       "\t 57101310 & 5        &  5       & 95       & 1        & 2        & 1        & 1        & 0        & 11       & ...      & NA       & NA       & NA       & NA       & NA       & NA       & NA       & NA       &  88      & 58      \\\\\n",
       "\t 57103171 & 6        & 27       & 95       & 0        & 1        & 4        & 1        & 0        & 10       & ...      &  7       &  7       &  7       &  7       &  7       &  7       &  1       &  0       & 120      & 79      \\\\\n",
       "\t 57103869 & 7        & 14       & 95       & 0        & 1        & 4        & 1        & 0        &  1       & ...      &  7       &  7       &  7       &  7       &  7       &  7       & NA       & NA       &  85      & 56      \\\\\n",
       "\t 57104553 & 7        & 14       & 95       & 1        & 2        & 4        & 1        & 0        &  6       & ...      &  7       &  7       &  7       &  7       &  7       &  7       &  1       &  0       &  90      & 59      \\\\\n",
       "\t 57104649 & 6        & 12       & 95       & 1        & 1        & 3        & 0        & 1        & 12       & ...      &  7       &  7       &  7       &  7       &  7       &  7       &  1       &  0       &  99      & 60      \\\\\n",
       "\t 57104676 & 5        & 31       & 95       & 1        & 1        & 3        & 1        & 0        & 10       & ...      &  7       &  7       &  7       &  7       &  7       &  7       &  1       &  0       &  93      & 54      \\\\\n",
       "\t 57109625 & 6        &  7       & 95       & 1        & 1        & 3        & 1        & 0        &  3       & ...      &  7       &  7       &  7       &  7       &  7       &  7       &  1       &  0       &  87      & 53      \\\\\n",
       "\t 57110897 & 6        & 27       & 95       & 0        & 1        & 4        & 1        & 0        &  9       & ...      & NA       & NA       & NA       & NA       & NA       & NA       & NA       & NA       &  79      & 47      \\\\\n",
       "\t 57111071 & 8        &  3       & 95       & 0        & 1        & 5        & 1        & 0        &  6       & ...      &  7       &  7       &  7       &  7       &  7       &  7       & NA       &  0       & 113      & 71      \\\\\n",
       "\\end{tabular}\n"
      ],
      "text/markdown": [
       "\n",
       "AID | IMONTH | IDAY | IYEAR | SCH_YR | BIO_SEX | VERSION | SMP01 | SMP03 | H1GI1M | ... | PD4A | PD4B | PD4C | PD4D | PD4E | PD4F | PD5 | PD5A | AH_PVT | AH_RAW | \n",
       "|---|---|---|---|---|---|---|---|---|---|\n",
       "| 57100270 | 6        | 23       | 95       | 1        | 2        | 4        | 0        | 1        | 10       | ...      |  7       |  7       |  7       |  7       |  7       |  7       |  1       |  1       |  86      | 55       | \n",
       "| 57101310 | 5        |  5       | 95       | 1        | 2        | 1        | 1        | 0        | 11       | ...      | NA       | NA       | NA       | NA       | NA       | NA       | NA       | NA       |  88      | 58       | \n",
       "| 57103171 | 6        | 27       | 95       | 0        | 1        | 4        | 1        | 0        | 10       | ...      |  7       |  7       |  7       |  7       |  7       |  7       |  1       |  0       | 120      | 79       | \n",
       "| 57103869 | 7        | 14       | 95       | 0        | 1        | 4        | 1        | 0        |  1       | ...      |  7       |  7       |  7       |  7       |  7       |  7       | NA       | NA       |  85      | 56       | \n",
       "| 57104553 | 7        | 14       | 95       | 1        | 2        | 4        | 1        | 0        |  6       | ...      |  7       |  7       |  7       |  7       |  7       |  7       |  1       |  0       |  90      | 59       | \n",
       "| 57104649 | 6        | 12       | 95       | 1        | 1        | 3        | 0        | 1        | 12       | ...      |  7       |  7       |  7       |  7       |  7       |  7       |  1       |  0       |  99      | 60       | \n",
       "| 57104676 | 5        | 31       | 95       | 1        | 1        | 3        | 1        | 0        | 10       | ...      |  7       |  7       |  7       |  7       |  7       |  7       |  1       |  0       |  93      | 54       | \n",
       "| 57109625 | 6        |  7       | 95       | 1        | 1        | 3        | 1        | 0        |  3       | ...      |  7       |  7       |  7       |  7       |  7       |  7       |  1       |  0       |  87      | 53       | \n",
       "| 57110897 | 6        | 27       | 95       | 0        | 1        | 4        | 1        | 0        |  9       | ...      | NA       | NA       | NA       | NA       | NA       | NA       | NA       | NA       |  79      | 47       | \n",
       "| 57111071 | 8        |  3       | 95       | 0        | 1        | 5        | 1        | 0        |  6       | ...      |  7       |  7       |  7       |  7       |  7       |  7       | NA       |  0       | 113      | 71       | \n",
       "\n",
       "\n"
      ],
      "text/plain": [
       "   AID      IMONTH IDAY IYEAR SCH_YR BIO_SEX VERSION SMP01 SMP03 H1GI1M ...\n",
       "1  57100270 6      23   95    1      2       4       0     1     10     ...\n",
       "2  57101310 5       5   95    1      2       1       1     0     11     ...\n",
       "3  57103171 6      27   95    0      1       4       1     0     10     ...\n",
       "4  57103869 7      14   95    0      1       4       1     0      1     ...\n",
       "5  57104553 7      14   95    1      2       4       1     0      6     ...\n",
       "6  57104649 6      12   95    1      1       3       0     1     12     ...\n",
       "7  57104676 5      31   95    1      1       3       1     0     10     ...\n",
       "8  57109625 6       7   95    1      1       3       1     0      3     ...\n",
       "9  57110897 6      27   95    0      1       4       1     0      9     ...\n",
       "10 57111071 8       3   95    0      1       5       1     0      6     ...\n",
       "   PD4A PD4B PD4C PD4D PD4E PD4F PD5 PD5A AH_PVT AH_RAW\n",
       "1   7    7    7    7    7    7    1   1    86    55    \n",
       "2  NA   NA   NA   NA   NA   NA   NA  NA    88    58    \n",
       "3   7    7    7    7    7    7    1   0   120    79    \n",
       "4   7    7    7    7    7    7   NA  NA    85    56    \n",
       "5   7    7    7    7    7    7    1   0    90    59    \n",
       "6   7    7    7    7    7    7    1   0    99    60    \n",
       "7   7    7    7    7    7    7    1   0    93    54    \n",
       "8   7    7    7    7    7    7    1   0    87    53    \n",
       "9  NA   NA   NA   NA   NA   NA   NA  NA    79    47    \n",
       "10  7    7    7    7    7    7   NA   0   113    71    "
      ]
     },
     "metadata": {},
     "output_type": "display_data"
    }
   ],
   "source": [
    "Wave_one_data <- read.table(file= \"21600-0001-Data.tsv\", header= TRUE, sep = \"\\t\", na.string= \"NA\", as.is=T)\n",
    "head(Wave_one_data,10)"
   ]
  },
  {
   "cell_type": "code",
   "execution_count": 8,
   "metadata": {},
   "outputs": [
    {
     "name": "stderr",
     "output_type": "stream",
     "text": [
      "Warning message:\n",
      "\"package 'ggplot2' is in use and will not be installed\"Warning message:\n",
      "\"package 'shiny' is in use and will not be installed\""
     ]
    },
    {
     "name": "stdout",
     "output_type": "stream",
     "text": [
      "package 'shinydashboard' successfully unpacked and MD5 sums checked\n",
      "\n",
      "The downloaded binary packages are in\n",
      "\tC:\\Users\\alorean\\AppData\\Local\\Temp\\RtmpKi6rUP\\downloaded_packages\n",
      "package 'plotly' successfully unpacked and MD5 sums checked\n",
      "\n",
      "The downloaded binary packages are in\n",
      "\tC:\\Users\\alorean\\AppData\\Local\\Temp\\RtmpKi6rUP\\downloaded_packages\n"
     ]
    },
    {
     "name": "stderr",
     "output_type": "stream",
     "text": [
      "\n",
      "Attaching package: 'shinydashboard'\n",
      "\n",
      "The following object is masked from 'package:graphics':\n",
      "\n",
      "    box\n",
      "\n",
      "\n",
      "Attaching package: 'plotly'\n",
      "\n",
      "The following object is masked from 'package:ggplot2':\n",
      "\n",
      "    last_plot\n",
      "\n",
      "The following object is masked from 'package:stats':\n",
      "\n",
      "    filter\n",
      "\n",
      "The following object is masked from 'package:graphics':\n",
      "\n",
      "    layout\n",
      "\n"
     ]
    }
   ],
   "source": [
    "install.packages(\"ggplot2\", repos=\"http://cran.us.r-project.org\")\n",
    "install.packages(\"shiny\", repos=\"http://cran.us.r-project.org\")\n",
    "install.packages(\"shinydashboard\", repos=\"http://cran.us.r-project.org\")\n",
    "install.packages(\"plotly\", repos=\"http://cran.us.r-project.org\")\n",
    "library(\"shiny\")\n",
    "library(\"ggplot2\")\n",
    "library(\"shinydashboard\")\n",
    "library(\"plotly\")"
   ]
  },
  {
   "cell_type": "code",
   "execution_count": null,
   "metadata": {},
   "outputs": [
    {
     "name": "stderr",
     "output_type": "stream",
     "text": [
      "\n",
      "Listening on http://127.0.0.1:3391\n"
     ]
    }
   ],
   "source": []
  },
  {
   "cell_type": "code",
   "execution_count": null,
   "metadata": {},
   "outputs": [],
   "source": []
  }
 ],
 "metadata": {
  "kernelspec": {
   "display_name": "R",
   "language": "R",
   "name": "ir"
  },
  "language_info": {
   "codemirror_mode": "r",
   "file_extension": ".r",
   "mimetype": "text/x-r-source",
   "name": "R",
   "pygments_lexer": "r",
   "version": "3.4.1"
  }
 },
 "nbformat": 4,
 "nbformat_minor": 2
}
