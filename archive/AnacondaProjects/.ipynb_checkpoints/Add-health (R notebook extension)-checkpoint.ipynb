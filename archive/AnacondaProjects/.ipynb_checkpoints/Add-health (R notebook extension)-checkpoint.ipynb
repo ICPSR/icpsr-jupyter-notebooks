{
 "cells": [
  {
   "cell_type": "markdown",
   "metadata": {},
   "source": [
    "National Longitudinal Study of Adolescent to Adult Health (Add Health), 1994-2008 [Public Use] (ICPSR 21600)\n",
    "Principal Investigator(s):  Harris, Kathleen Mullan, University of North Carolina-Chapel Hill; Udry, J. Richard, University of North Carolina-Chapel Hill"
   ]
  },
  {
   "cell_type": "markdown",
   "metadata": {},
   "source": [
    "The National Longitudinal Study of Adolescent to Adult Health (Add Health), 1994-2008 [Public Use] is a longitudinal study of a nationally representative sample of U.S. adolescents in grades 7 through 12 during the 1994-1995 school year. The Add Health cohort was followed into young adulthood with four in-home interviews, the most recent conducted in 2008 when the sample was aged 24-32. Add Health combines longitudinal survey data on respondents' social, economic, psychological, and physical well-being with contextual data on the family, neighborhood, community, school, friendships, peer groups, and romantic relationships."
   ]
  },
  {
   "cell_type": "markdown",
   "metadata": {},
   "source": []
  },
  {
   "cell_type": "code",
   "execution_count": null,
   "metadata": {},
   "outputs": [],
   "source": []
  },
  {
   "cell_type": "code",
   "execution_count": 3,
   "metadata": {},
   "outputs": [],
   "source": [
    "Wave_one_data <- read.table(file= \"21600-0001-Data.tsv\", header= TRUE, sep = \"\\t\", na.string= \"NA\", as.is=T)"
   ]
  },
  {
   "cell_type": "code",
   "execution_count": 6,
   "metadata": {},
   "outputs": [
    {
     "data": {
      "text/html": [
       "<table>\n",
       "<thead><tr><th scope=col>AID</th><th scope=col>IMONTH</th><th scope=col>IDAY</th><th scope=col>IYEAR</th><th scope=col>SCH_YR</th><th scope=col>BIO_SEX</th><th scope=col>VERSION</th><th scope=col>SMP01</th><th scope=col>SMP03</th><th scope=col>H1GI1M</th><th scope=col>...</th><th scope=col>PD4A</th><th scope=col>PD4B</th><th scope=col>PD4C</th><th scope=col>PD4D</th><th scope=col>PD4E</th><th scope=col>PD4F</th><th scope=col>PD5</th><th scope=col>PD5A</th><th scope=col>AH_PVT</th><th scope=col>AH_RAW</th></tr></thead>\n",
       "<tbody>\n",
       "\t<tr><td>57100270</td><td>6       </td><td>23      </td><td>95      </td><td>1       </td><td>2       </td><td>4       </td><td>0       </td><td>1       </td><td>10      </td><td>...     </td><td> 7      </td><td> 7      </td><td> 7      </td><td> 7      </td><td> 7      </td><td> 7      </td><td> 1      </td><td> 1      </td><td> 86     </td><td>55      </td></tr>\n",
       "\t<tr><td>57101310</td><td>5       </td><td> 5      </td><td>95      </td><td>1       </td><td>2       </td><td>1       </td><td>1       </td><td>0       </td><td>11      </td><td>...     </td><td>NA      </td><td>NA      </td><td>NA      </td><td>NA      </td><td>NA      </td><td>NA      </td><td>NA      </td><td>NA      </td><td> 88     </td><td>58      </td></tr>\n",
       "\t<tr><td>57103171</td><td>6       </td><td>27      </td><td>95      </td><td>0       </td><td>1       </td><td>4       </td><td>1       </td><td>0       </td><td>10      </td><td>...     </td><td> 7      </td><td> 7      </td><td> 7      </td><td> 7      </td><td> 7      </td><td> 7      </td><td> 1      </td><td> 0      </td><td>120     </td><td>79      </td></tr>\n",
       "\t<tr><td>57103869</td><td>7       </td><td>14      </td><td>95      </td><td>0       </td><td>1       </td><td>4       </td><td>1       </td><td>0       </td><td> 1      </td><td>...     </td><td> 7      </td><td> 7      </td><td> 7      </td><td> 7      </td><td> 7      </td><td> 7      </td><td>NA      </td><td>NA      </td><td> 85     </td><td>56      </td></tr>\n",
       "\t<tr><td>57104553</td><td>7       </td><td>14      </td><td>95      </td><td>1       </td><td>2       </td><td>4       </td><td>1       </td><td>0       </td><td> 6      </td><td>...     </td><td> 7      </td><td> 7      </td><td> 7      </td><td> 7      </td><td> 7      </td><td> 7      </td><td> 1      </td><td> 0      </td><td> 90     </td><td>59      </td></tr>\n",
       "\t<tr><td>57104649</td><td>6       </td><td>12      </td><td>95      </td><td>1       </td><td>1       </td><td>3       </td><td>0       </td><td>1       </td><td>12      </td><td>...     </td><td> 7      </td><td> 7      </td><td> 7      </td><td> 7      </td><td> 7      </td><td> 7      </td><td> 1      </td><td> 0      </td><td> 99     </td><td>60      </td></tr>\n",
       "</tbody>\n",
       "</table>\n"
      ],
      "text/latex": [
       "\\begin{tabular}{r|llllllllllllllllllllllllllllllllllllllllllllllllllllllllllllllllllllllllllllllllllllllllllllllllllllllllllllllllllllllllllllllllllllllllllllllllllllllllllllllllllllllllllllllllllllllllllllllllllllllllllllllllllllllllllllllllllllllllllllllllllllllllllllllllllllllllllllllllllllllllllllllllllllllllllllllllllllllllllllllllllllllllllllllllllllllllllllllllllllllllllllllllllllllllllllllllllllllllllllllllllllllllllllllllllllllllllllllllllllllllllllllllllllllllllllllllllllllllllllllllllllllllllllllllllllllllllllllllllllllllllllllllllllllllllllllllllllllllllllllllllllllllllllllllllllllllllllllllllllllllllllllllllllllllllllllllllllllllllllllllllllllllllllllllllllllllllllllllllllllllllllllllllllllllllllllllllllllllllllllllllllllllllllllllllllllllllllllllllllllllllllllllllllllllllllllllllllllllllllllllllllllllllllllllllllllllllllllllllllllllllllllllllllllllllllllllllllllllllllllllllllllllllllllllllllllllllllllllllllllllllllllllllllllllllllllllllllllllllllllllllllllllllllllllllllllllllllllllllllllllllllllllllllllllllllllllllllllllllllllllllllllllllllllllllllllllllllllllllllllllllllllllllllllllllllllllllllllllllllllllllllllllllllllllllllllllllllllllllllllllllllllllllllllllllllllllllllllllllllllllllllllllllllllllllllllllllllllllllllllllllllllllllllllllllllllllllllllllllllllllllllllllllllllllllllllllllllllllllllllllllllllllllllllllllllllllllllllllllllllllllllllllllllllllllllllllllllllllllllllllllllllllllllllllllllllllllllllllllllllllllllllllllllllllllllllllllllllllllllllllllllllllllllllllllllllllllllllllllllllllllllllllllllllllllllllllllllllllllllllllllllllllllllllllllllllllllllllllllllllllllllllllllllllllllllllllllllllllllllllllllllllllllllllllllllllllllllllllllllllllllllllllllllllllllllllllllllllllllllllllllllllllllllllllllllllllllllllllllllllllllllllllllllllllllllllllllllllllllllllllllllllllllllllllllllllllllllllllllllllllllllllllllllllllllllllllllllllllllllllllllllllllllllllllllllllllllllllllllllllllllllllllllllllllllllllllllllllllllllllllllllllllllllllllllllllllllllllllllllllllllllllllllllllllllllllllllllllllllllllllllllllllllllllllllllllllllllllllllllllllllllllllllllllllllllllllllllllllllllllllllllllllllllllllllllllllllllllllllllllllllllllllllllllllllllllllllllllllllllllllllllllllllllllllllllllllllllllllllllllllllllllllllllllllllllllllllllllllllllllllllllllllllllllllllllllllllllllllllllllllllllllllllllllllllllllllllllllllllllllllllllllllllllllllllllllllllllllllllllllllllllllllllllllllllllllllllllllllllllllllllllllllllllllllllllllllllllllllllllllllllllllllllllllllllllllllllllllllllllllllllllllllllllllllllllllllllllllllllllllllllllllllllllllllllllllllllllllllllllllllllllllllllllllllllllllllllllllllllllllllllllllllllllllllllllllllllllllllllllllllllllllllllllllllllllllllllllllllllllllllllllllllllllllllllllllllllllllllllllllllllllllllllllllllllllllllllllllllll}\n",
       " AID & IMONTH & IDAY & IYEAR & SCH\\_YR & BIO\\_SEX & VERSION & SMP01 & SMP03 & H1GI1M & ... & PD4A & PD4B & PD4C & PD4D & PD4E & PD4F & PD5 & PD5A & AH\\_PVT & AH\\_RAW\\\\\n",
       "\\hline\n",
       "\t 57100270 & 6        & 23       & 95       & 1        & 2        & 4        & 0        & 1        & 10       & ...      &  7       &  7       &  7       &  7       &  7       &  7       &  1       &  1       &  86      & 55      \\\\\n",
       "\t 57101310 & 5        &  5       & 95       & 1        & 2        & 1        & 1        & 0        & 11       & ...      & NA       & NA       & NA       & NA       & NA       & NA       & NA       & NA       &  88      & 58      \\\\\n",
       "\t 57103171 & 6        & 27       & 95       & 0        & 1        & 4        & 1        & 0        & 10       & ...      &  7       &  7       &  7       &  7       &  7       &  7       &  1       &  0       & 120      & 79      \\\\\n",
       "\t 57103869 & 7        & 14       & 95       & 0        & 1        & 4        & 1        & 0        &  1       & ...      &  7       &  7       &  7       &  7       &  7       &  7       & NA       & NA       &  85      & 56      \\\\\n",
       "\t 57104553 & 7        & 14       & 95       & 1        & 2        & 4        & 1        & 0        &  6       & ...      &  7       &  7       &  7       &  7       &  7       &  7       &  1       &  0       &  90      & 59      \\\\\n",
       "\t 57104649 & 6        & 12       & 95       & 1        & 1        & 3        & 0        & 1        & 12       & ...      &  7       &  7       &  7       &  7       &  7       &  7       &  1       &  0       &  99      & 60      \\\\\n",
       "\\end{tabular}\n"
      ],
      "text/markdown": [
       "\n",
       "AID | IMONTH | IDAY | IYEAR | SCH_YR | BIO_SEX | VERSION | SMP01 | SMP03 | H1GI1M | ... | PD4A | PD4B | PD4C | PD4D | PD4E | PD4F | PD5 | PD5A | AH_PVT | AH_RAW | \n",
       "|---|---|---|---|---|---|\n",
       "| 57100270 | 6        | 23       | 95       | 1        | 2        | 4        | 0        | 1        | 10       | ...      |  7       |  7       |  7       |  7       |  7       |  7       |  1       |  1       |  86      | 55       | \n",
       "| 57101310 | 5        |  5       | 95       | 1        | 2        | 1        | 1        | 0        | 11       | ...      | NA       | NA       | NA       | NA       | NA       | NA       | NA       | NA       |  88      | 58       | \n",
       "| 57103171 | 6        | 27       | 95       | 0        | 1        | 4        | 1        | 0        | 10       | ...      |  7       |  7       |  7       |  7       |  7       |  7       |  1       |  0       | 120      | 79       | \n",
       "| 57103869 | 7        | 14       | 95       | 0        | 1        | 4        | 1        | 0        |  1       | ...      |  7       |  7       |  7       |  7       |  7       |  7       | NA       | NA       |  85      | 56       | \n",
       "| 57104553 | 7        | 14       | 95       | 1        | 2        | 4        | 1        | 0        |  6       | ...      |  7       |  7       |  7       |  7       |  7       |  7       |  1       |  0       |  90      | 59       | \n",
       "| 57104649 | 6        | 12       | 95       | 1        | 1        | 3        | 0        | 1        | 12       | ...      |  7       |  7       |  7       |  7       |  7       |  7       |  1       |  0       |  99      | 60       | \n",
       "\n",
       "\n"
      ],
      "text/plain": [
       "  AID      IMONTH IDAY IYEAR SCH_YR BIO_SEX VERSION SMP01 SMP03 H1GI1M ... PD4A\n",
       "1 57100270 6      23   95    1      2       4       0     1     10     ...  7  \n",
       "2 57101310 5       5   95    1      2       1       1     0     11     ... NA  \n",
       "3 57103171 6      27   95    0      1       4       1     0     10     ...  7  \n",
       "4 57103869 7      14   95    0      1       4       1     0      1     ...  7  \n",
       "5 57104553 7      14   95    1      2       4       1     0      6     ...  7  \n",
       "6 57104649 6      12   95    1      1       3       0     1     12     ...  7  \n",
       "  PD4B PD4C PD4D PD4E PD4F PD5 PD5A AH_PVT AH_RAW\n",
       "1  7    7    7    7    7    1   1    86    55    \n",
       "2 NA   NA   NA   NA   NA   NA  NA    88    58    \n",
       "3  7    7    7    7    7    1   0   120    79    \n",
       "4  7    7    7    7    7   NA  NA    85    56    \n",
       "5  7    7    7    7    7    1   0    90    59    \n",
       "6  7    7    7    7    7    1   0    99    60    "
      ]
     },
     "metadata": {},
     "output_type": "display_data"
    }
   ],
   "source": [
    "head(Wave_one_data)"
   ]
  },
  {
   "cell_type": "code",
   "execution_count": 97,
   "metadata": {},
   "outputs": [
    {
     "data": {
      "text/plain": [
       " Januaray     April       May      June      July    August September   October \n",
       "        3        92      1593      1810      1300      1102       438       117 \n",
       "Novemeber  December \n",
       "       31        18 "
      ]
     },
     "metadata": {},
     "output_type": "display_data"
    },
    {
     "data": {
      "text/plain": [
       "    Januaray        April          May         June         July       August \n",
       "0.0004612546 0.0141451415 0.2449261993 0.2782902829 0.1998769988 0.1694341943 \n",
       "   September      October    Novemeber     December \n",
       "0.0673431734 0.0179889299 0.0047662977 0.0027675277 "
      ]
     },
     "metadata": {},
     "output_type": "display_data"
    },
    {
     "data": {
      "text/html": [
       "<table>\n",
       "<thead><tr><th></th><th scope=col>Januaray</th><th scope=col>April</th><th scope=col>May</th><th scope=col>June</th><th scope=col>July</th><th scope=col>August</th><th scope=col>September</th><th scope=col>October</th><th scope=col>Novemeber</th><th scope=col>December</th></tr></thead>\n",
       "<tbody>\n",
       "\t<tr><th scope=row>Freq_Month</th><td>3.0000000000</td><td>92.00000000 </td><td>1593.0000000</td><td>1810.0000000</td><td>1300.000000 </td><td>1102.0000000</td><td>438.00000000</td><td>117.00000000</td><td>31.000000000</td><td>18.000000000</td></tr>\n",
       "\t<tr><th scope=row>Freq_Month_prop</th><td>0.0004612546</td><td> 0.01414514 </td><td>   0.2449262</td><td>   0.2782903</td><td>   0.199877 </td><td>   0.1694342</td><td>  0.06734317</td><td>  0.01798893</td><td> 0.004766298</td><td> 0.002767528</td></tr>\n",
       "</tbody>\n",
       "</table>\n"
      ],
      "text/latex": [
       "\\begin{tabular}{r|llllllllll}\n",
       "  & Januaray & April & May & June & July & August & September & October & Novemeber & December\\\\\n",
       "\\hline\n",
       "\tFreq\\_Month & 3.0000000000 & 92.00000000  & 1593.0000000 & 1810.0000000 & 1300.000000  & 1102.0000000 & 438.00000000 & 117.00000000 & 31.000000000 & 18.000000000\\\\\n",
       "\tFreq\\_Month\\_prop & 0.0004612546 &  0.01414514  &    0.2449262 &    0.2782903 &    0.199877  &    0.1694342 &   0.06734317 &   0.01798893 &  0.004766298 &  0.002767528\\\\\n",
       "\\end{tabular}\n"
      ],
      "text/markdown": [
       "\n",
       "| <!--/--> | Januaray | April | May | June | July | August | September | October | Novemeber | December | \n",
       "|---|---|\n",
       "| Freq_Month | 3.0000000000 | 92.00000000  | 1593.0000000 | 1810.0000000 | 1300.000000  | 1102.0000000 | 438.00000000 | 117.00000000 | 31.000000000 | 18.000000000 | \n",
       "| Freq_Month_prop | 0.0004612546 |  0.01414514  |    0.2449262 |    0.2782903 |    0.199877  |    0.1694342 |   0.06734317 |   0.01798893 |  0.004766298 |  0.002767528 | \n",
       "\n",
       "\n"
      ],
      "text/plain": [
       "                Januaray     April       May          June         July       \n",
       "Freq_Month      3.0000000000 92.00000000 1593.0000000 1810.0000000 1300.000000\n",
       "Freq_Month_prop 0.0004612546  0.01414514    0.2449262    0.2782903    0.199877\n",
       "                August       September    October      Novemeber   \n",
       "Freq_Month      1102.0000000 438.00000000 117.00000000 31.000000000\n",
       "Freq_Month_prop    0.1694342   0.06734317   0.01798893  0.004766298\n",
       "                December    \n",
       "Freq_Month      18.000000000\n",
       "Freq_Month_prop  0.002767528"
      ]
     },
     "metadata": {},
     "output_type": "display_data"
    }
   ],
   "source": [
    "Freq_Month <- table(Wave_one_data$IMONTH)\n",
    "names(Freq_Month) <-c(\"Januaray\",\"April\", \"May\",\"June\", \"July\", \"August\", \"September\", \"October\", \"Novemeber\", \"December\")\n",
    "Freq_Month\n",
    "\n",
    "Freq_Month_prop<-prop.table(Freq_Month)\n",
    "Freq_Month_prop\n",
    "\n",
    "FM <-rbind(Freq_Month,Freq_Month_prop)\n",
    "FM"
   ]
  },
  {
   "cell_type": "code",
   "execution_count": null,
   "metadata": {},
   "outputs": [],
   "source": []
  },
  {
   "cell_type": "code",
   "execution_count": 74,
   "metadata": {},
   "outputs": [
    {
     "data": {
      "image/png": "[encoded data removed]",
      "text/plain": [
       "Plot with title \"Pie Chart of Months\""
      ]
     },
     "metadata": {},
     "output_type": "display_data",
     "source": "R display func"
    }
   ],
   "source": [
    "\n",
    "library(\"plotrix\")\n",
    "slices <-c(3,92,1593,1810,1300,1102,438,117,31,18)\n",
    "lbls<- c(\"Januaray\",\"April\", \"May\",\"June\", \"July\", \"August\", \"September\", \"October\", \"Novemeber\", \"December\")\n",
    "graph <-pie3D(slices,labels=lbls,explode=0.2, radius = 0.8,labelcex=0.6,labelpos= NULL,main = \"Pie Chart of Months\")"
   ]
  },
  {
   "cell_type": "code",
   "execution_count": 76,
   "metadata": {},
   "outputs": [],
   "source": [
    "\n"
   ]
  },
  {
   "cell_type": "code",
   "execution_count": null,
   "metadata": {},
   "outputs": [],
   "source": []
  },
  {
   "cell_type": "code",
   "execution_count": null,
   "metadata": {},
   "outputs": [],
   "source": []
  },
  {
   "cell_type": "code",
   "execution_count": null,
   "metadata": {},
   "outputs": [],
   "source": []
  }
 ],
 "metadata": {
  "kernelspec": {
   "display_name": "R",
   "language": "R",
   "name": "ir"
  },
  "language_info": {
   "codemirror_mode": "r",
   "file_extension": ".r",
   "mimetype": "text/x-r-source",
   "name": "R",
   "pygments_lexer": "r",
   "version": "3.4.1"
  }
 },
 "nbformat": 4,
 "nbformat_minor": 2
}
