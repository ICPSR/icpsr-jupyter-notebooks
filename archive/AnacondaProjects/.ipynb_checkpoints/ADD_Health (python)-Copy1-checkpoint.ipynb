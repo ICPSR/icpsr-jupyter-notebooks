{
 "cells": [
  {
   "cell_type": "markdown",
   "metadata": {},
   "source": [
    "# National Longitudinal Study of Adolescent to Adult Health (Add Health), 1994-2008 [Public Use] (ICPSR 21600)\n"
   ]
  },
  {
   "cell_type": "markdown",
   "metadata": {},
   "source": [
    "#### DEMO PYTHON NOTEBOOK- This notebook is a demostration of how to use an interactive R notebook with the Add Health study\n",
    "## Principal Investigator(s):  Harris, Kathleen Mullan, University of North Carolina-Chapel Hill; Udry, J. Richard, University of North Carolina-Chapel Hill\n",
    "\n",
    "## Summary: \n",
    "The National Longitudinal Study of Adolescent to Adult Health (Add Health), 1994-2008 [Public Use] is a longitudinal study of a nationally representative sample of U.S. adolescents in grades 7 through 12 during the 1994-1995 school year. The Add Health cohort was followed into young adulthood with four in-home interviews, the most recent conducted in 2008 when the sample was aged 24-32. Add Health combines longitudinal survey data on respondents' social, economic, psychological, and physical well-being with contextual data on the family, neighborhood, community, school, friendships, peer groups, and romantic relationships.\n",
    "\n",
    "Add Health Wave I data collection took place between September 1994 and December 1995, and included both an in-school questionnaire and in-home interview. The in-school questionnaire was administered to more than 90,000 students in grades 7 through 12, and gathered information on social and demographic characteristics of adolescent respondents, education and occupation of parents, household structure, expectations for the future, self-esteem, health status, risk behaviors, friendships, and school-year extracurricular activities. All students listed on a sample school's roster were eligible for selection into the core in-home interview sample. In-home interviews included topics such as health status, health-facility utilization, nutrition, peer networks, decision-making processes, family composition and dynamics, educational aspirations and expectations, employment experience, romantic and sexual partnerships, substance use, and criminal activities. A parent, preferably the resident mother, of each adolescent respondent interviewed in Wave I was also asked to complete an interviewer-assisted questionnaire covering topics such as inheritable health conditions, marriages and marriage-like relationships, neighborhood characteristics, involvement in volunteer, civic, and school activities, health-affecting behaviors, education and employment, household income and economic assistance, parent-adolescent communication and interaction, parent's familiarity with the adolescent's friends and friends' parents.\n",
    "\n",
    "Add Health data collection recommenced for Wave II from April to August 1996, and included almost 15,000 follow-up in-home interviews with adolescents from Wave I. Interview questions were generally similar to Wave I, but also included questions about sun exposure and more detailed nutrition questions. Respondents were asked to report their height and weight during the course of the interview, and were also weighed and measured by the interviewer.\n",
    "\n",
    "From August 2001 to April 2002, Wave III data were collected through in-home interviews with 15,170 Wave I respondents (now 18 to 26 years old), as well as interviews with their partners. Respondents were administered survey questions designed to obtain information about family, relationships, sexual experiences, childbearing, and educational histories, labor force involvement, civic participation, religion and spirituality, mental health, health insurance, illness, delinquency and violence, gambling, substance abuse, and involvement with the criminal justice system. High School Transcript Release Forms were also collected at Wave III, and these data comprise the Education Data component of the Add Health study.\n",
    "\n",
    "Wave IV in-home interviews were conducted in 2008 and 2009 when the original Wave I respondents were 24 to 32 years old. Longitudinal survey data were collected on the social, economic, psychological, and health circumstances of respondents, as well as longitudinal geographic data. Survey questions were expanded on educational transitions, economic status and financial resources and strains, sleep patterns and sleep quality, eating habits and nutrition, illnesses and medications, physical activities, emotional content and quality of current or most recent romantic/cohabiting/marriage relationships, and maltreatment during childhood by caregivers. Dates and circumstances of key life events occurring in young adulthood were also recorded, including a complete marriage and cohabitation history, full pregnancy and fertility histories from both men and women, an educational history of dates of degrees and school attendance, contact with the criminal justice system, military service, and various employment events, including the date of first and current jobs, with respective information on occupation, industry, wages, hours, and benefits. Finally, physical measurements and biospecimens were also collected at Wave IV, and included anthropometric measures of weight, height and waist circumference, cardiovascular measures such as systolic blood pressure, diastolic blood pressure, and pulse, metabolic measures from dried blood spots assayed for lipids, glucose, and glycosylated hemoglobin (HbA1c), measures of inflammation and immune function, including High sensitivity C-reactive protein (hsCRP) and Epstein-Barr virus (EBV).\n",
    "\n",
    "## DataSet:\n",
    "This data is hosted locally ( will eventually be available on a github repository).\n",
    "\n",
    "## Citation\n",
    "Harris, Kathleen Mullan, and J. Richard Udry. National Longitudinal Study of Adolescent to Adult Health (Add Health), 1994-2008 [Public Use]. ICPSR21600-v17. Chapel Hill, NC: Carolina Population Center, University of North Carolina-Chapel Hill/Ann Arbor, MI: Inter-university Consortium for Political and Social Research [distributors], 2016-05-25. https://doi.org/10.3886/ICPSR21600.v17\n",
    "\n",
    "## Geographic Coverage : United States \n",
    "## Time Period : 1994-2008\n",
    "## Date of Collection: \n",
    "* 1994-01--1995-12\n",
    "* 1996-04--1996-09\n",
    "* 2001-04--2002-04\n",
    "* 2007-04--2009-01\n",
    "\n",
    "## Unit of Observation: Individual \n",
    "## Data Types(s) : Survey Data \n",
    "## Data Collection Notes:\n",
    "\n",
    "The current release represents a full collection update. All data and documentation files have been resupplied by the Principal Investigators and have been fully curated by ICPSR. ICPSR has revised dataset names and numbers to better reflect the organization of the collection by study wave. Users should be aware that version history notes dated prior to 2015-11-09 do not apply to the current organization of the datasets.\n",
    "\n"
   ]
  },
  {
   "cell_type": "code",
   "execution_count": 2,
   "metadata": {},
   "outputs": [
    {
     "data": {
      "text/plain": [
       "array([1], dtype=int32)"
      ]
     },
     "execution_count": 2,
     "metadata": {},
     "output_type": "execute_result"
    }
   ],
   "source": [
    "import ipywidgets as widgets \n",
    "from IPython.display import display\n",
    "from IPython.display import clear_output\n",
    "\n",
    "import bqplot\n",
    "from bqplot import pyplot as pl\n",
    "import numpy as np\n",
    "import pandas as pd\n",
    "import matplotlib.pyplot as plt\n",
    "import plotly as py\n",
    "import plotly.plotly as ply\n",
    "import plotly.graph_objs as go\n",
    "from plotly.tools import FigureFactory as FF\n",
    "import scipy\n",
    "\n",
    "import matplotlib as matplot\n",
    "import seaborn as sns\n",
    "import rpy2\n",
    "from __future__ import print_function\n",
    "from ipywidgets import interact, interactive, fixed, interact_manual\n",
    "\n",
    "%matplotlib inline\n",
    "%load_ext rpy2.ipython\n",
    "%R require(ggplot2); require(tidyr)\n"
   ]
  },
  {
   "cell_type": "code",
   "execution_count": 3,
   "metadata": {
    "collapsed": true
   },
   "outputs": [],
   "source": [
    "Wave_one_df = pd.read_table(\"21600-0001-Data.tsv\", low_memory=False, na_values= [' '])"
   ]
  },
  {
   "cell_type": "code",
   "execution_count": 4,
   "metadata": {},
   "outputs": [
    {
     "data": {
      "application/vnd.jupyter.widget-view+json": {
       "model_id": "1e7cc72b08d740c9b15dd62b6822c701",
       "version_major": 2,
       "version_minor": 0
      },
      "text/plain": [
       "A Jupyter Widget"
      ]
     },
     "metadata": {},
     "output_type": "display_data"
    },
    {
     "data": {
      "application/vnd.jupyter.widget-view+json": {
       "model_id": "82639bcac884402bb9d9714c4544e0b9",
       "version_major": 2,
       "version_minor": 0
      },
      "text/plain": [
       "A Jupyter Widget"
      ]
     },
     "metadata": {},
     "output_type": "display_data"
    },
    {
     "data": {
      "application/vnd.jupyter.widget-view+json": {
       "model_id": "ee2cbff4e82547ce93e3cb7c486afbae",
       "version_major": 2,
       "version_minor": 0
      },
      "text/plain": [
       "A Jupyter Widget"
      ]
     },
     "metadata": {},
     "output_type": "display_data"
    }
   ],
   "source": [
    "def click(b):\n",
    "    with out:\n",
    "        clear_output()\n",
    "        display(Wave_one_df.head(n_wid.value))\n",
    "        \n",
    "\n",
    "style = {'description_width': 'initial'}\n",
    "\n",
    "n_wid = widgets.IntText(\n",
    "    value=10,\n",
    "    description='Number of rows to display:',\n",
    "    style=style\n",
    ")\n",
    "\n",
    "out=widgets.Output()\n",
    "button=widgets.Button(description='Click To Show Data')\n",
    "button.on_click(click)\n",
    "\n",
    "display(n_wid)\n",
    "display(button)\n",
    "display(out)"
   ]
  },
  {
   "cell_type": "code",
   "execution_count": 5,
   "metadata": {
    "collapsed": true
   },
   "outputs": [],
   "source": [
    "variables = Wave_one_df.dtypes.index \n",
    "\n"
   ]
  },
  {
   "cell_type": "code",
   "execution_count": 6,
   "metadata": {
    "collapsed": true
   },
   "outputs": [],
   "source": [
    "from rpy2.robjects import pandas2ri\n",
    "pandas2ri.activate()\n",
    "from rpy2.robjects.packages import importr\n",
    "base = importr('base')\n",
    "\n"
   ]
  },
  {
   "cell_type": "code",
   "execution_count": 7,
   "metadata": {},
   "outputs": [
    {
     "data": {
      "application/vnd.jupyter.widget-view+json": {
       "model_id": "284139b7f389435f9b1370fbae43ef0d",
       "version_major": 2,
       "version_minor": 0
      },
      "text/plain": [
       "A Jupyter Widget"
      ]
     },
     "metadata": {},
     "output_type": "display_data"
    },
    {
     "data": {
      "application/vnd.jupyter.widget-view+json": {
       "model_id": "b109b5f1b7ee43b1b5490621bcc47682",
       "version_major": 2,
       "version_minor": 0
      },
      "text/plain": [
       "A Jupyter Widget"
      ]
     },
     "metadata": {},
     "output_type": "display_data"
    }
   ],
   "source": [
    "\n",
    "def drop_down(drop_down_input):\n",
    "    with out:\n",
    "        clear_output()\n",
    "        print(base.summary(Wave_one_df[drop_down_input]))\n",
    "        print(base.table(Wave_one_df[drop_down_input]))\n",
    "        plt.hist(Wave_one_df[drop_down_input].dropna()) #dropped Na values \n",
    "        plt.title(\"Histogram of Frequency Counts\")\n",
    "        plt.xlabel(\"Value\")\n",
    "        plt.ylabel(\"Frequency\")\n",
    "        plt.show()\n",
    "        \n",
    "       # print (base.table(Wave_one_data[drop_down])\n",
    "        #display(Wave_one_df[drop_down].describe()) This is the python version but I was able to pull R version\n",
    "        \n",
    "        #do plost using BQ plot \n",
    "        \n",
    "\n",
    "#notebook viewer - for default values, for documentation add list of publications \n",
    "\n",
    "        \n",
    "drop_down_selction = widgets.Select(\n",
    "    options = variables,\n",
    "    description = \"Variables\"\n",
    "    \n",
    "    \n",
    "    \n",
    ")\n",
    "out = widgets.Output()\n",
    "\n",
    "display(drop_down_selction)\n",
    "display(out)\n",
    "Select_update = widgets.interactive(drop_down, drop_down_input = drop_down_selction)\n",
    "Select_update.observe(drop_down, 'value')\n"
   ]
  },
  {
   "cell_type": "code",
   "execution_count": 8,
   "metadata": {
    "collapsed": true
   },
   "outputs": [],
   "source": [
    "import traitlets\n",
    "\n",
    "from ipywidgets import Button, HBox, VBox, Layout, Box"
   ]
  },
  {
   "cell_type": "code",
   "execution_count": 9,
   "metadata": {},
   "outputs": [
    {
     "data": {
      "application/vnd.jupyter.widget-view+json": {
       "model_id": "d9d7faadbd354df685328244e3c019f2",
       "version_major": 2,
       "version_minor": 0
      },
      "text/plain": [
       "A Jupyter Widget"
      ]
     },
     "metadata": {},
     "output_type": "display_data"
    },
    {
     "data": {
      "application/vnd.jupyter.widget-view+json": {
       "model_id": "62bcb243403f4c398c0dcea223be08a3",
       "version_major": 2,
       "version_minor": 0
      },
      "text/plain": [
       "A Jupyter Widget"
      ]
     },
     "metadata": {},
     "output_type": "display_data"
    }
   ],
   "source": [
    "\n",
    "def on_button_clicked (button):\n",
    "    with out:\n",
    "        clear_output()\n",
    "        print (pd.crosstab(Wave_one_df[d1.value], Wave_one_df[d2.value], margins =True))\n",
    "        plt.hist(pd.crosstab(Wave_one_df[d1.value], Wave_one_df[d2.value]).dropna()) #dropped Na values \n",
    "        plt.title(\"Graph of Cross Tabulations\")\n",
    "        plt.xlabel(d1.value)\n",
    "        plt.ylabel(d2.value)\n",
    "        plt.show()\n",
    "        \n",
    "        \n",
    "    \n",
    "\n",
    "style = {'description_width': 'initial'}\n",
    "\n",
    "\n",
    "\n",
    "d1  = widgets.Select(\n",
    "    options = variables,\n",
    "    description = \"Select First Variable\",\n",
    "    style=style\n",
    ")\n",
    "\n",
    "        \n",
    "d2 = widgets.Select(\n",
    "    options = variables,\n",
    "    description = \"Select Second Variable\",\n",
    "    style=style\n",
    "    \n",
    "   \n",
    ")\n",
    "\n",
    "\n",
    "a1 = widgets.Button(\n",
    "    description='Click to generate cross tabulation',\n",
    "    disabled=False,\n",
    "    layout=Layout(width='50%', height='80px')\n",
    ")\n",
    "\n",
    "\n",
    "out = widgets.Output()\n",
    "#display(out)\n",
    "\n",
    "a1.on_click(on_button_clicked)\n",
    "\n",
    "select_update1 = widgets.interactive(d1)\n",
    "select_update1.observe(d1, 'vaule')\n",
    "\n",
    "\n",
    "select_update2 = widgets.interactive(d2)\n",
    "select_update2.observe(d2, 'vaule')\n",
    "\n",
    "\n",
    "items = [d1,d2,a1]\n",
    "box_layout = Layout(display='flex',\n",
    "                    flex_flow='row',\n",
    "                    align_items='stretch',\n",
    "                    border='solid',\n",
    "                    width='50%')\n",
    "box = Box(children=items, layout=box_layout)\n",
    "\n",
    "\n",
    "#display(d1)\n",
    "#display(d2)\n",
    "#display(a1)\n",
    "display(box)\n",
    "display(out)\n",
    "\n",
    "#Link all three widgets \n",
    "\n"
   ]
  },
  {
   "cell_type": "markdown",
   "metadata": {},
   "source": [
    "## Related Publications"
   ]
  },
  {
   "cell_type": "markdown",
   "metadata": {},
   "source": [
    "2018 Pollard, M.S.,  Tucker, J.S.,  Green, H.D.,  de la Haye, K.,  Espelage, D.L. . Adolescent peer networks and the moderating role of depressive symptoms on developmental trajectories of cannabis use. Addictive Behaviors. 76, 34-40.\n",
    "Full Text Options: DOI Worldcat\tGoogle Scholar\t\n",
    "Export Options: RIS/EndNote\n",
    "\n",
    "2017 Ajilore, O.,  Alberda, G. Peer effects and political participation: What is the role of coursework clusters?. Review of Regional Studies. 47, (1), 47-62.\n",
    "Full Text Options: Worldcat\tGoogle Scholar\t\n",
    "Export Options: RIS/EndNote\n",
    "\n",
    "2017 Amato, Paul R.,  Patterson, Sarah E. The intergenerational transmission of union instability in early adulthood. Journal of Marriage and Family.\n",
    "Full Text Options: DOI Worldcat\tGoogle Scholar\t\n",
    "Export Options: RIS/EndNote\n",
    "\n",
    "2017 Bainbridge, K.E.,  Roy, N.,  Losonczy, K.G.,  Hoffman, H.J.,  Cohen, S.M. . Voice disorders and associated risk markers among young adults in the United States. Laryngoscope.\n",
    "Full Text Options: DOI Worldcat\tGoogle Scholar\t\n",
    "Export Options: RIS/EndNote\n",
    "\n",
    "2017 Barnert, Elizabeth S.,  Dudovitz, Rebecca,  Nelson, Bergen B.,  Coker, Tumaini R.,  Biely, Christopher,  Li, Ning,  Chung, Paul J. How does incarcerating young people affect their adult health outcomes?. Pediatrics. 139, (2), e20162624\n",
    "Full Text Options: DOI Worldcat\tGoogle Scholar\t\n",
    "Export Options: RIS/EndNote\n",
    "\n",
    "2017 Bradshaw, Matt,  Kent, Blake Victor,  Henderson, W. Matthew,  Setar, Anna Catherine . Subjective social status, life course SES, and BMI in young adulthood. Health Psychology.\n",
    "Full Text Options: DOI Worldcat\tGoogle Scholar\t\n",
    "Export Options: RIS/EndNote\n",
    "\n",
    "2017 Brumley, Lauren D.,  Jaffee, Sara R.,  Brumley, Benjamin P. Pathways from childhood adversity to problem behaviors in young adulthood: The mediating role of adolescents’ future expectations. Journal of Youth and Adolescence. 46, (1), 1-14.\n",
    "Full Text Options: DOI Worldcat\tGoogle Scholar\t\n",
    "\n",
    "Export Options: RIS/EndNote\n",
    "2017 Chen, Frances R.,  Rothman, Emily F.,  Jaffee, Sara R. Early puberty, friendship group characteristics, and dating abuse in US girls. Pediatrics. 139, (6), e20162847\n",
    "Full Text Options: DOI Worldcat\tGoogle Scholar\t\n",
    "Export Options: RIS/EndNote\n",
    "\n",
    "2017 Chen, P.,  Hussey, J.M.,  Monbureau, T.O. . Depression and antidepressant use among Asian and Hispanic adults: Association with immigrant generation and language use. Journal of Immigrant and Minority Health.\n",
    "Full Text Options: DOI Worldcat\tGoogle Scholar\t\n",
    "Export Options: RIS/EndNote\n",
    "\n",
    "2017 Cheng, T.C.,  Lo, C.C. . Social risk and protective factors in adolescents' reduction and cessation of alcohol use. Substance Use and Misuse.\n",
    "Full Text Options: DOI Worldcat\tGoogle Scholar\t\n",
    "Export Options: RIS/EndNote"
   ]
  },
  {
   "cell_type": "markdown",
   "metadata": {},
   "source": [
    "# End of Notebook"
   ]
  },
  {
   "cell_type": "code",
   "execution_count": null,
   "metadata": {
    "collapsed": true
   },
   "outputs": [],
   "source": []
  }
 ],
 "metadata": {
  "kernelspec": {
   "display_name": "Python 3",
   "language": "python",
   "name": "python3"
  },
  "language_info": {
   "codemirror_mode": {
    "name": "ipython",
    "version": 3
   },
   "file_extension": ".py",
   "mimetype": "text/x-python",
   "name": "python",
   "nbconvert_exporter": "python",
   "pygments_lexer": "ipython3",
   "version": "3.6.1"
  }
 },
 "nbformat": 4,
 "nbformat_minor": 2
}
