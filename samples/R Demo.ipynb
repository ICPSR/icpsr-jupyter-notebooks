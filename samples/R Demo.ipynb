{
 "cells": [
  {
   "cell_type": "markdown",
   "metadata": {},
   "source": [
    "# 103rd Congressional District Geographic Entity File, 1990: [United States] (ICPSR 6425)"
   ]
  },
  {
   "cell_type": "markdown",
   "metadata": {},
   "source": [
    "> Load data from an rdata frame"
   ]
  },
  {
   "cell_type": "code",
   "execution_count": 1,
   "metadata": {
    "collapsed": true
   },
   "outputs": [],
   "source": [
    "mydata <- read.table(\"/var/rdemo/03088-0002-Data.data\", header=TRUE)"
   ]
  },
  {
   "cell_type": "markdown",
   "metadata": {},
   "source": [
    "> View top records"
   ]
  },
  {
   "cell_type": "code",
   "execution_count": 2,
   "metadata": {},
   "outputs": [
    {
     "data": {
      "text/html": [
       "<table>\n",
       "<thead><tr><th scope=col>CASEID</th><th scope=col>FACID</th><th scope=col>Q1</th><th scope=col>Q2A</th><th scope=col>Q2B</th><th scope=col>Q2C</th><th scope=col>Q2D</th><th scope=col>Q3A</th><th scope=col>Q3B</th><th scope=col>Q3C</th><th scope=col>...</th><th scope=col>F2FWA75</th><th scope=col>F2FWA76</th><th scope=col>F2FWA77</th><th scope=col>F2FWA78</th><th scope=col>F2FWA0</th><th scope=col>TFACRAKE</th><th scope=col>QFSTRAT</th><th scope=col>STUDYIND</th><th scope=col>FIELDPSU</th><th scope=col>OWN</th></tr></thead>\n",
       "<tbody>\n",
       "\t<tr><td>7615                                  </td><td>615                                   </td><td>120                                   </td><td>NO                                    </td><td>NO                                    </td><td>NO                                    </td><td>YES                                   </td><td>NA                                    </td><td>NA                                    </td><td> NA                                   </td><td>...                                   </td><td>6.2063                                </td><td>5.4880                                </td><td>5.8441                                </td><td>5.7966                                </td><td>5.8397                                </td><td>1                                     </td><td>STRATUM 5 OP NON-METH - NOT IN STRATUM</td><td>INCENTIVE STUDY FACILITY              </td><td>303                                   </td><td>PRIVATE NONPROFIT                     </td></tr>\n",
       "\t<tr><td>7627                                  </td><td>627                                   </td><td>647                                   </td><td>NO                                    </td><td>NO                                    </td><td>YES                                   </td><td>YES                                   </td><td>NA                                    </td><td>NA                                    </td><td>344                                   </td><td>...                                   </td><td>4.5144                                </td><td>4.1875                                </td><td>4.3099                                </td><td>4.2240                                </td><td>4.1637                                </td><td>1                                     </td><td>STRATUM 5 OP NON-METH - NOT IN STRATUM</td><td>INCENTIVE STUDY FACILITY              </td><td>401                                   </td><td>PRIVATE NONPROFIT                     </td></tr>\n",
       "</tbody>\n",
       "</table>\n"
      ],
      "text/latex": [
       "\\begin{tabular}{r|lllllllllllllllllllllllllllllllllllllllllllllllllllllllllllllllllllllllllllllllllllllllllllllllllllllllllllllllllllllllllllllllllllllllllllllllllllllllllllllllllllllllllllllllllllllllllllllllllllllllllllllllllllllllllllllllllllllllllllllllllllllllllllllllllllllllllllllllllllllllllllllllllllllllllllllllllllllllllllllllllllllllllllllllllllllllllllllllllllllllllllllllllllllllllllllllllllllllllllllllllllllllllllllllllllllllllllllllllllllllllllllllllllllllllllllllllllllllllllllllllllllllllllllllllllllllllllllllllllllllllllllllllllllllllllllllll}\n",
       " CASEID & FACID & Q1 & Q2A & Q2B & Q2C & Q2D & Q3A & Q3B & Q3C & ... & F2FWA75 & F2FWA76 & F2FWA77 & F2FWA78 & F2FWA0 & TFACRAKE & QFSTRAT & STUDYIND & FIELDPSU & OWN\\\\\n",
       "\\hline\n",
       "\t 7615                                   & 615                                    & 120                                    & NO                                     & NO                                     & NO                                     & YES                                    & NA                                     & NA                                     &  NA                                    & ...                                    & 6.2063                                 & 5.4880                                 & 5.8441                                 & 5.7966                                 & 5.8397                                 & 1                                      & STRATUM 5 OP NON-METH - NOT IN STRATUM & INCENTIVE STUDY FACILITY               & 303                                    & PRIVATE NONPROFIT                     \\\\\n",
       "\t 7627                                   & 627                                    & 647                                    & NO                                     & NO                                     & YES                                    & YES                                    & NA                                     & NA                                     & 344                                    & ...                                    & 4.5144                                 & 4.1875                                 & 4.3099                                 & 4.2240                                 & 4.1637                                 & 1                                      & STRATUM 5 OP NON-METH - NOT IN STRATUM & INCENTIVE STUDY FACILITY               & 401                                    & PRIVATE NONPROFIT                     \\\\\n",
       "\\end{tabular}\n"
      ],
      "text/markdown": [
       "\n",
       "CASEID | FACID | Q1 | Q2A | Q2B | Q2C | Q2D | Q3A | Q3B | Q3C | ... | F2FWA75 | F2FWA76 | F2FWA77 | F2FWA78 | F2FWA0 | TFACRAKE | QFSTRAT | STUDYIND | FIELDPSU | OWN | \n",
       "|---|---|\n",
       "| 7615                                   | 615                                    | 120                                    | NO                                     | NO                                     | NO                                     | YES                                    | NA                                     | NA                                     |  NA                                    | ...                                    | 6.2063                                 | 5.4880                                 | 5.8441                                 | 5.7966                                 | 5.8397                                 | 1                                      | STRATUM 5 OP NON-METH - NOT IN STRATUM | INCENTIVE STUDY FACILITY               | 303                                    | PRIVATE NONPROFIT                      | \n",
       "| 7627                                   | 627                                    | 647                                    | NO                                     | NO                                     | YES                                    | YES                                    | NA                                     | NA                                     | 344                                    | ...                                    | 4.5144                                 | 4.1875                                 | 4.3099                                 | 4.2240                                 | 4.1637                                 | 1                                      | STRATUM 5 OP NON-METH - NOT IN STRATUM | INCENTIVE STUDY FACILITY               | 401                                    | PRIVATE NONPROFIT                      | \n",
       "\n",
       "\n"
      ],
      "text/plain": [
       "  CASEID FACID Q1  Q2A Q2B Q2C Q2D Q3A Q3B Q3C ... F2FWA75 F2FWA76 F2FWA77\n",
       "1 7615   615   120 NO  NO  NO  YES NA  NA   NA ... 6.2063  5.4880  5.8441 \n",
       "2 7627   627   647 NO  NO  YES YES NA  NA  344 ... 4.5144  4.1875  4.3099 \n",
       "  F2FWA78 F2FWA0 TFACRAKE QFSTRAT                               \n",
       "1 5.7966  5.8397 1        STRATUM 5 OP NON-METH - NOT IN STRATUM\n",
       "2 4.2240  4.1637 1        STRATUM 5 OP NON-METH - NOT IN STRATUM\n",
       "  STUDYIND                 FIELDPSU OWN              \n",
       "1 INCENTIVE STUDY FACILITY 303      PRIVATE NONPROFIT\n",
       "2 INCENTIVE STUDY FACILITY 401      PRIVATE NONPROFIT"
      ]
     },
     "metadata": {},
     "output_type": "display_data"
    }
   ],
   "source": [
    "head(mydata, 2)"
   ]
  },
  {
   "cell_type": "markdown",
   "metadata": {},
   "source": [
    "> Display frequencies"
   ]
  },
  {
   "cell_type": "code",
   "execution_count": 3,
   "metadata": {},
   "outputs": [
    {
     "data": {},
     "metadata": {},
     "output_type": "display_data"
    },
    {
     "data": {
      "image/png": "[encoded data removed]",
      "text/plain": [
       "plot without title"
      ]
     },
     "metadata": {},
     "output_type": "display_data"
    }
   ],
   "source": [
    "library(ggplot2)\n",
    "df <- as.data.frame(table(mydata$Q3TOT))\n",
    "p4 <- ggplot() + geom_bar(aes(y =Freq, x = Var1), data = df,stat=\"identity\") + labs(title = \"Frequencies by variable Q3TOT\") + xlab(\"Q3TOT\")\n",
    "p4"
   ]
  },
  {
   "cell_type": "code",
   "execution_count": 4,
   "metadata": {},
   "outputs": [
    {
     "name": "stderr",
     "output_type": "stream",
     "text": [
      "Saving 6.67 x 6.67 in image\n"
     ]
    }
   ],
   "source": [
    "library(ggplot2)\n",
    "ggsave(\"frequencies.png\", path=\"/var/rdemo\", plot = last_plot())"
   ]
  },
  {
   "cell_type": "code",
   "execution_count": 5,
   "metadata": {},
   "outputs": [
    {
     "data": {
      "text/html": [
       "<dl class=dl-horizontal>\n",
       "\t<dt>NO</dt>\n",
       "\t\t<dd>267</dd>\n",
       "\t<dt>YES</dt>\n",
       "\t\t<dd>13</dd>\n",
       "</dl>\n"
      ],
      "text/latex": [
       "\\begin{description*}\n",
       "\\item[NO] 267\n",
       "\\item[YES] 13\n",
       "\\end{description*}\n"
      ],
      "text/markdown": [
       "NO\n",
       ":   267YES\n",
       ":   13\n",
       "\n"
      ],
      "text/plain": [
       " NO YES \n",
       "267  13 "
      ]
     },
     "metadata": {},
     "output_type": "display_data"
    }
   ],
   "source": [
    "summary(mydata$Q2A)"
   ]
  },
  {
   "cell_type": "code",
   "execution_count": 6,
   "metadata": {},
   "outputs": [
    {
     "data": {
      "text/plain": [
       "     \n",
       "       NO YES\n",
       "  NO  221  46\n",
       "  YES   8   5"
      ]
     },
     "metadata": {},
     "output_type": "display_data"
    }
   ],
   "source": [
    "table(mydata$Q2A,mydata$Q2B)"
   ]
  },
  {
   "cell_type": "code",
   "execution_count": 7,
   "metadata": {},
   "outputs": [
    {
     "data": {},
     "metadata": {},
     "output_type": "display_data"
    },
    {
     "data": {
      "image/png": "[encoded data removed]",
      "text/plain": [
       "plot without title"
      ]
     },
     "metadata": {},
     "output_type": "display_data"
    }
   ],
   "source": [
    "library(ggplot2)\n",
    "df <- as.data.frame(table(mydata$Q2B,mydata$Q2C))\n",
    "p4 <- ggplot() + geom_bar(aes(y =Freq, x = Var1, fill=Var2), data = df,stat=\"identity\")\n",
    "p4"
   ]
  }
 ],
 "metadata": {
  "kernelspec": {
   "display_name": "R",
   "language": "R",
   "name": "ir"
  },
  "language_info": {
   "codemirror_mode": "r",
   "file_extension": ".r",
   "mimetype": "text/x-r-source",
   "name": "R",
   "pygments_lexer": "r",
   "version": "3.3.2"
  }
 },
 "nbformat": 4,
 "nbformat_minor": 2
}
