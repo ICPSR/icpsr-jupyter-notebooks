{
 "cells": [
  {
   "cell_type": "markdown",
   "metadata": {
    "collapsed": true
   },
   "source": [
    "# FIRST JUPYTER NOTEBOOK (Test Functionality)"
   ]
  },
  {
   "cell_type": "code",
   "execution_count": 6,
   "metadata": {},
   "outputs": [
    {
     "name": "stdout",
     "output_type": "stream",
     "text": [
      "Hello World\n"
     ]
    }
   ],
   "source": [
    "print('Hello World')"
   ]
  },
  {
   "cell_type": "code",
   "execution_count": 7,
   "metadata": {},
   "outputs": [
    {
     "data": {
      "text/plain": [
       "'Hello World'"
      ]
     },
     "execution_count": 7,
     "metadata": {},
     "output_type": "execute_result"
    }
   ],
   "source": [
    "'Hello World'"
   ]
  },
  {
   "cell_type": "markdown",
   "metadata": {},
   "source": [
    "# This is a Header\n",
    "## This is a smaller Header\n",
    "*this is italics*\n",
    "**THIS IS BOLD**\n",
    "1. this is a list\n",
    "2. two\n",
    "3. three"
   ]
  },
  {
   "cell_type": "code",
   "execution_count": 8,
   "metadata": {
    "collapsed": true
   },
   "outputs": [],
   "source": [
    "import pandas as pd\n",
    "df = pd.read_csv(\"/Users/nathansamoy/Desktop/ICPSR/icpsr-jupyter-notebooks/samples/03088-0002-Data.csv\")"
   ]
  },
  {
   "cell_type": "code",
   "execution_count": 9,
   "metadata": {},
   "outputs": [
    {
     "data": {
      "text/html": [
       "<div>\n",
       "<style scoped>\n",
       "    .dataframe tbody tr th:only-of-type {\n",
       "        vertical-align: middle;\n",
       "    }\n",
       "\n",
       "    .dataframe tbody tr th {\n",
       "        vertical-align: top;\n",
       "    }\n",
       "\n",
       "    .dataframe thead th {\n",
       "        text-align: right;\n",
       "    }\n",
       "</style>\n",
       "<table border=\"1\" class=\"dataframe\">\n",
       "  <thead>\n",
       "    <tr style=\"text-align: right;\">\n",
       "      <th></th>\n",
       "      <th>CASEID</th>\n",
       "      <th>FACID</th>\n",
       "      <th>Q1</th>\n",
       "      <th>Q2A</th>\n",
       "      <th>Q2B</th>\n",
       "      <th>Q2C</th>\n",
       "      <th>Q2D</th>\n",
       "      <th>Q3A</th>\n",
       "      <th>Q3B</th>\n",
       "      <th>Q3C</th>\n",
       "      <th>...</th>\n",
       "      <th>F2FWA75</th>\n",
       "      <th>F2FWA76</th>\n",
       "      <th>F2FWA77</th>\n",
       "      <th>F2FWA78</th>\n",
       "      <th>F2FWA0</th>\n",
       "      <th>TFACRAKE</th>\n",
       "      <th>QFSTRAT</th>\n",
       "      <th>STUDYIND</th>\n",
       "      <th>FIELDPSU</th>\n",
       "      <th>OWN</th>\n",
       "    </tr>\n",
       "  </thead>\n",
       "  <tbody>\n",
       "    <tr>\n",
       "      <th>1</th>\n",
       "      <td>7615</td>\n",
       "      <td>615</td>\n",
       "      <td>120.0</td>\n",
       "      <td>NO</td>\n",
       "      <td>NO</td>\n",
       "      <td>NO</td>\n",
       "      <td>YES</td>\n",
       "      <td>NaN</td>\n",
       "      <td>NaN</td>\n",
       "      <td>NaN</td>\n",
       "      <td>...</td>\n",
       "      <td>6.2063</td>\n",
       "      <td>5.4880</td>\n",
       "      <td>5.8441</td>\n",
       "      <td>5.7966</td>\n",
       "      <td>5.8397</td>\n",
       "      <td>1.0</td>\n",
       "      <td>STRATUM 5 OP NON-METH - NOT IN STRATUM</td>\n",
       "      <td>INCENTIVE STUDY FACILITY</td>\n",
       "      <td>303</td>\n",
       "      <td>PRIVATE NONPROFIT</td>\n",
       "    </tr>\n",
       "    <tr>\n",
       "      <th>2</th>\n",
       "      <td>7627</td>\n",
       "      <td>627</td>\n",
       "      <td>647.0</td>\n",
       "      <td>NO</td>\n",
       "      <td>NO</td>\n",
       "      <td>YES</td>\n",
       "      <td>YES</td>\n",
       "      <td>NaN</td>\n",
       "      <td>NaN</td>\n",
       "      <td>344.0</td>\n",
       "      <td>...</td>\n",
       "      <td>4.5144</td>\n",
       "      <td>4.1875</td>\n",
       "      <td>4.3099</td>\n",
       "      <td>4.2240</td>\n",
       "      <td>4.1637</td>\n",
       "      <td>1.0</td>\n",
       "      <td>STRATUM 5 OP NON-METH - NOT IN STRATUM</td>\n",
       "      <td>INCENTIVE STUDY FACILITY</td>\n",
       "      <td>401</td>\n",
       "      <td>PRIVATE NONPROFIT</td>\n",
       "    </tr>\n",
       "    <tr>\n",
       "      <th>3</th>\n",
       "      <td>8715</td>\n",
       "      <td>1715</td>\n",
       "      <td>26.0</td>\n",
       "      <td>NO</td>\n",
       "      <td>NO</td>\n",
       "      <td>NO</td>\n",
       "      <td>YES</td>\n",
       "      <td>NaN</td>\n",
       "      <td>NaN</td>\n",
       "      <td>NaN</td>\n",
       "      <td>...</td>\n",
       "      <td>151.8667</td>\n",
       "      <td>0.0000</td>\n",
       "      <td>155.2704</td>\n",
       "      <td>152.5660</td>\n",
       "      <td>149.9912</td>\n",
       "      <td>1.0</td>\n",
       "      <td>STRATUM 5 OP NON-METH - NOT IN STRATUM</td>\n",
       "      <td>INCENTIVE STUDY FACILITY</td>\n",
       "      <td>408</td>\n",
       "      <td>PUBLIC</td>\n",
       "    </tr>\n",
       "    <tr>\n",
       "      <th>4</th>\n",
       "      <td>8379</td>\n",
       "      <td>1379</td>\n",
       "      <td>103.0</td>\n",
       "      <td>NO</td>\n",
       "      <td>NO</td>\n",
       "      <td>NO</td>\n",
       "      <td>YES</td>\n",
       "      <td>NaN</td>\n",
       "      <td>NaN</td>\n",
       "      <td>NaN</td>\n",
       "      <td>...</td>\n",
       "      <td>6.6068</td>\n",
       "      <td>5.8422</td>\n",
       "      <td>6.2213</td>\n",
       "      <td>6.1707</td>\n",
       "      <td>6.2166</td>\n",
       "      <td>1.0</td>\n",
       "      <td>STRATUM 5 OP NON-METH - NOT IN STRATUM</td>\n",
       "      <td>MAIN STUDY FACILITY</td>\n",
       "      <td>303</td>\n",
       "      <td>PRIVATE NONPROFIT</td>\n",
       "    </tr>\n",
       "    <tr>\n",
       "      <th>5</th>\n",
       "      <td>7806</td>\n",
       "      <td>806</td>\n",
       "      <td>57.0</td>\n",
       "      <td>NO</td>\n",
       "      <td>NO</td>\n",
       "      <td>NO</td>\n",
       "      <td>YES</td>\n",
       "      <td>NaN</td>\n",
       "      <td>NaN</td>\n",
       "      <td>NaN</td>\n",
       "      <td>...</td>\n",
       "      <td>33.1814</td>\n",
       "      <td>34.6534</td>\n",
       "      <td>34.1302</td>\n",
       "      <td>35.5355</td>\n",
       "      <td>35.0641</td>\n",
       "      <td>1.0</td>\n",
       "      <td>STRATUM 5 OP NON-METH - NOT IN STRATUM</td>\n",
       "      <td>MAIN STUDY FACILITY</td>\n",
       "      <td>303</td>\n",
       "      <td>PRIVATE NONPROFIT</td>\n",
       "    </tr>\n",
       "  </tbody>\n",
       "</table>\n",
       "<p>5 rows × 545 columns</p>\n",
       "</div>"
      ],
      "text/plain": [
       "   CASEID  FACID     Q1 Q2A Q2B  Q2C  Q2D  Q3A  Q3B    Q3C        ...          \\\n",
       "1    7615    615  120.0  NO  NO   NO  YES  NaN  NaN    NaN        ...           \n",
       "2    7627    627  647.0  NO  NO  YES  YES  NaN  NaN  344.0        ...           \n",
       "3    8715   1715   26.0  NO  NO   NO  YES  NaN  NaN    NaN        ...           \n",
       "4    8379   1379  103.0  NO  NO   NO  YES  NaN  NaN    NaN        ...           \n",
       "5    7806    806   57.0  NO  NO   NO  YES  NaN  NaN    NaN        ...           \n",
       "\n",
       "    F2FWA75  F2FWA76   F2FWA77   F2FWA78    F2FWA0 TFACRAKE  \\\n",
       "1    6.2063   5.4880    5.8441    5.7966    5.8397      1.0   \n",
       "2    4.5144   4.1875    4.3099    4.2240    4.1637      1.0   \n",
       "3  151.8667   0.0000  155.2704  152.5660  149.9912      1.0   \n",
       "4    6.6068   5.8422    6.2213    6.1707    6.2166      1.0   \n",
       "5   33.1814  34.6534   34.1302   35.5355   35.0641      1.0   \n",
       "\n",
       "                                  QFSTRAT                  STUDYIND FIELDPSU  \\\n",
       "1  STRATUM 5 OP NON-METH - NOT IN STRATUM  INCENTIVE STUDY FACILITY      303   \n",
       "2  STRATUM 5 OP NON-METH - NOT IN STRATUM  INCENTIVE STUDY FACILITY      401   \n",
       "3  STRATUM 5 OP NON-METH - NOT IN STRATUM  INCENTIVE STUDY FACILITY      408   \n",
       "4  STRATUM 5 OP NON-METH - NOT IN STRATUM       MAIN STUDY FACILITY      303   \n",
       "5  STRATUM 5 OP NON-METH - NOT IN STRATUM       MAIN STUDY FACILITY      303   \n",
       "\n",
       "                 OWN  \n",
       "1  PRIVATE NONPROFIT  \n",
       "2  PRIVATE NONPROFIT  \n",
       "3             PUBLIC  \n",
       "4  PRIVATE NONPROFIT  \n",
       "5  PRIVATE NONPROFIT  \n",
       "\n",
       "[5 rows x 545 columns]"
      ]
     },
     "execution_count": 9,
     "metadata": {},
     "output_type": "execute_result"
    }
   ],
   "source": [
    "df.head()"
   ]
  },
  {
   "cell_type": "code",
   "execution_count": null,
   "metadata": {
    "collapsed": true
   },
   "outputs": [],
   "source": []
  },
  {
   "cell_type": "code",
   "execution_count": 10,
   "metadata": {},
   "outputs": [
    {
     "data": {
      "text/plain": [
       "<matplotlib.axes._subplots.AxesSubplot at 0x10897ab38>"
      ]
     },
     "execution_count": 10,
     "metadata": {},
     "output_type": "execute_result"
    },
    {
     "data": {
      "image/png": "[encoded data removed]",
      "text/plain": [
       "<matplotlib.figure.Figure at 0x10897a128>"
      ]
     },
     "metadata": {},
     "output_type": "display_data"
    }
   ],
   "source": [
    "%matplotlib inline\n",
    "import matplotlib\n",
    "counts = df.Q2A.value_counts()\n",
    "counts.plot(kind=\"pie\")"
   ]
  },
  {
   "cell_type": "code",
   "execution_count": 11,
   "metadata": {},
   "outputs": [
    {
     "data": {
      "text/plain": [
       "<matplotlib.axes._subplots.AxesSubplot at 0x107641cc0>"
      ]
     },
     "execution_count": 11,
     "metadata": {},
     "output_type": "execute_result"
    },
    {
     "data": {
      "image/png": "[encoded data removed]",
      "text/plain": [
       "<matplotlib.figure.Figure at 0x110e2b3c8>"
      ]
     },
     "metadata": {},
     "output_type": "display_data"
    }
   ],
   "source": [
    "counts = df.Q2A.value_counts()\n",
    "counts.plot(kind=\"pie\")"
   ]
  },
  {
   "cell_type": "code",
   "execution_count": 12,
   "metadata": {
    "collapsed": true
   },
   "outputs": [],
   "source": [
    "import ipywidgets as widgets"
   ]
  },
  {
   "cell_type": "code",
   "execution_count": 43,
   "metadata": {
    "scrolled": false
   },
   "outputs": [
    {
     "data": {
      "application/vnd.jupyter.widget-view+json": {
       "model_id": "3e6c1d960bbe4fa9836e87bb963fa818",
       "version_major": 2,
       "version_minor": 0
      },
      "text/plain": [
       "A Jupyter Widget"
      ]
     },
     "metadata": {},
     "output_type": "display_data"
    }
   ],
   "source": [
    "widgets.IntSlider()"
   ]
  },
  {
   "cell_type": "code",
   "execution_count": 45,
   "metadata": {},
   "outputs": [
    {
     "data": {
      "application/vnd.jupyter.widget-view+json": {
       "model_id": "49f07529278840feb68f2c0c1f17c0a2",
       "version_major": 2,
       "version_minor": 0
      },
      "text/plain": [
       "A Jupyter Widget"
      ]
     },
     "metadata": {},
     "output_type": "display_data"
    }
   ],
   "source": [
    "a = widgets.FloatText()\n",
    "display(a)"
   ]
  },
  {
   "cell_type": "code",
   "execution_count": 47,
   "metadata": {},
   "outputs": [
    {
     "data": {
      "text/plain": [
       "13.0"
      ]
     },
     "execution_count": 47,
     "metadata": {},
     "output_type": "execute_result"
    }
   ],
   "source": [
    "a.value"
   ]
  },
  {
   "cell_type": "code",
   "execution_count": 23,
   "metadata": {
    "collapsed": true
   },
   "outputs": [],
   "source": [
    "import datetime\n",
    "dates = [datetime.date(2015,i,1) for i in range(1,13)]\n",
    "options = [(i.strftime('%b'), i) for i in dates]"
   ]
  },
  {
   "cell_type": "code",
   "execution_count": 25,
   "metadata": {},
   "outputs": [
    {
     "data": {
      "application/vnd.jupyter.widget-view+json": {
       "model_id": "612b74d9551a4a26bf01517bb01c67dc",
       "version_major": 2,
       "version_minor": 0
      },
      "text/plain": [
       "A Jupyter Widget"
      ]
     },
     "metadata": {},
     "output_type": "display_data"
    }
   ],
   "source": [
    "accordion = widgets.Accordion(children=[widgets.IntSlider(), widgets.SelectionRangeSlider(options = options)])\n",
    "accordion"
   ]
  },
  {
   "cell_type": "code",
   "execution_count": 33,
   "metadata": {},
   "outputs": [],
   "source": [
    "def f(x):\n",
    "    return x"
   ]
  },
  {
   "cell_type": "code",
   "execution_count": 36,
   "metadata": {},
   "outputs": [
    {
     "data": {
      "application/vnd.jupyter.widget-view+json": {
       "model_id": "842a990168fb473a8ff2f5bc07add82d",
       "version_major": 2,
       "version_minor": 0
      },
      "text/plain": [
       "A Jupyter Widget"
      ]
     },
     "metadata": {},
     "output_type": "display_data"
    },
    {
     "ename": "NameError",
     "evalue": "name 'x' is not defined",
     "output_type": "error",
     "traceback": [
      "\u001b[0;31m---------------------------------------------------------------------------\u001b[0m",
      "\u001b[0;31mNameError\u001b[0m                                 Traceback (most recent call last)",
      "\u001b[0;32m<ipython-input-36-491e9ffae5d3>\u001b[0m in \u001b[0;36m<module>\u001b[0;34m()\u001b[0m\n\u001b[1;32m      1\u001b[0m \u001b[0mwidgets\u001b[0m\u001b[0;34m.\u001b[0m\u001b[0minteract\u001b[0m\u001b[0;34m(\u001b[0m\u001b[0mf\u001b[0m\u001b[0;34m,\u001b[0m \u001b[0mx\u001b[0m\u001b[0;34m=\u001b[0m\u001b[0;36m5\u001b[0m\u001b[0;34m)\u001b[0m\u001b[0;34m;\u001b[0m\u001b[0;34m\u001b[0m\u001b[0m\n\u001b[0;32m----> 2\u001b[0;31m \u001b[0mdf\u001b[0m\u001b[0;34m.\u001b[0m\u001b[0mhead\u001b[0m\u001b[0;34m(\u001b[0m\u001b[0mx\u001b[0m\u001b[0;34m)\u001b[0m\u001b[0;34m\u001b[0m\u001b[0m\n\u001b[0m",
      "\u001b[0;31mNameError\u001b[0m: name 'x' is not defined"
     ]
    }
   ],
   "source": [
    "widgets.interact(f, x=5);\n",
    "df.head()"
   ]
  },
  {
   "cell_type": "code",
   "execution_count": null,
   "metadata": {},
   "outputs": [],
   "source": []
  }
 ],
 "metadata": {
  "kernelspec": {
   "display_name": "Python 3",
   "language": "python",
   "name": "python3"
  },
  "language_info": {
   "codemirror_mode": {
    "name": "ipython",
    "version": 3
   },
   "file_extension": ".py",
   "mimetype": "text/x-python",
   "name": "python",
   "nbconvert_exporter": "python",
   "pygments_lexer": "ipython3",
   "version": "3.6.3"
  }
 },
 "nbformat": 4,
 "nbformat_minor": 2
}
