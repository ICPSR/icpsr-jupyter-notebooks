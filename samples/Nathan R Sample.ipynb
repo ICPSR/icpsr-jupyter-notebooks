{
 "cells": [
  {
   "cell_type": "markdown",
   "metadata": {
    "collapsed": true
   },
   "source": [
    "# R Sample Journal"
   ]
  },
  {
   "cell_type": "markdown",
   "metadata": {},
   "source": [
    "*Load and Present Data*"
   ]
  },
  {
   "cell_type": "code",
   "execution_count": 2,
   "metadata": {},
   "outputs": [],
   "source": [
    "data <- read.table(\"/Users/nathansamoy/Desktop/ICPSR/icpsr-jupyter-notebooks/samples/35535-0001-Data.tsv\", sep = '\\t', header = TRUE)"
   ]
  },
  {
   "cell_type": "code",
   "execution_count": 4,
   "metadata": {},
   "outputs": [
    {
     "data": {
      "text/html": [
       "<table>\n",
       "<thead><tr><th scope=col>CASEID</th><th scope=col>ID</th><th scope=col>Q1A</th><th scope=col>Q1B</th><th scope=col>Q1C1</th><th scope=col>Q1C2</th><th scope=col>Q1C3</th><th scope=col>Q1C4</th><th scope=col>Q1C5</th><th scope=col>Q1C6</th><th scope=col>⋯</th><th scope=col>Q5I3</th><th scope=col>Q5I4</th><th scope=col>ZIPCODE</th><th scope=col>GENDER</th><th scope=col>WEIGHT</th><th scope=col>DISTRICT</th><th scope=col>STATE</th><th scope=col>USRCOFIX</th><th scope=col>CM_SEG</th><th scope=col>VERSION</th></tr></thead>\n",
       "<tbody>\n",
       "\t<tr><td>1    </td><td>50001</td><td>5    </td><td>3    </td><td>0    </td><td>0    </td><td> 0   </td><td> 0   </td><td>0    </td><td>0    </td><td>⋯    </td><td>NA   </td><td>1    </td><td>-1   </td><td>1    </td><td>5.43 </td><td>3    </td><td>33   </td><td>NA   </td><td>NA   </td><td>3    </td></tr>\n",
       "\t<tr><td>2    </td><td>50005</td><td>3    </td><td>2    </td><td>5    </td><td>2    </td><td> 2   </td><td> 5   </td><td>0    </td><td>0    </td><td>⋯    </td><td>NA   </td><td>2    </td><td>-1   </td><td>2    </td><td>0.90 </td><td>1    </td><td>23   </td><td>NA   </td><td>NA   </td><td>3    </td></tr>\n",
       "\t<tr><td>3    </td><td>50006</td><td>3    </td><td>3    </td><td>5    </td><td>0    </td><td>10   </td><td>10   </td><td>0    </td><td>0    </td><td>⋯    </td><td>NA   </td><td>2    </td><td>-1   </td><td>2    </td><td>0.99 </td><td>7    </td><td> 8   </td><td>NA   </td><td>NA   </td><td>3    </td></tr>\n",
       "</tbody>\n",
       "</table>\n"
      ],
      "text/latex": [
       "\\begin{tabular}{r|llllllllllllllllllllllllllllllllllllllllllllllllllllllllllllllllllllllllllllllllllllllllllllllllllllllllllllllllllllllllllllllllllllllllllllllllllllll}\n",
       " CASEID & ID & Q1A & Q1B & Q1C1 & Q1C2 & Q1C3 & Q1C4 & Q1C5 & Q1C6 & ⋯ & Q5I3 & Q5I4 & ZIPCODE & GENDER & WEIGHT & DISTRICT & STATE & USRCOFIX & CM\\_SEG & VERSION\\\\\n",
       "\\hline\n",
       "\t 1     & 50001 & 5     & 3     & 0     & 0     &  0    &  0    & 0     & 0     & ⋯     & NA    & 1     & -1    & 1     & 5.43  & 3     & 33    & NA    & NA    & 3    \\\\\n",
       "\t 2     & 50005 & 3     & 2     & 5     & 2     &  2    &  5    & 0     & 0     & ⋯     & NA    & 2     & -1    & 2     & 0.90  & 1     & 23    & NA    & NA    & 3    \\\\\n",
       "\t 3     & 50006 & 3     & 3     & 5     & 0     & 10    & 10    & 0     & 0     & ⋯     & NA    & 2     & -1    & 2     & 0.99  & 7     &  8    & NA    & NA    & 3    \\\\\n",
       "\\end{tabular}\n"
      ],
      "text/markdown": [
       "\n",
       "CASEID | ID | Q1A | Q1B | Q1C1 | Q1C2 | Q1C3 | Q1C4 | Q1C5 | Q1C6 | ⋯ | Q5I3 | Q5I4 | ZIPCODE | GENDER | WEIGHT | DISTRICT | STATE | USRCOFIX | CM_SEG | VERSION | \n",
       "|---|---|---|\n",
       "| 1     | 50001 | 5     | 3     | 0     | 0     |  0    |  0    | 0     | 0     | ⋯     | NA    | 1     | -1    | 1     | 5.43  | 3     | 33    | NA    | NA    | 3     | \n",
       "| 2     | 50005 | 3     | 2     | 5     | 2     |  2    |  5    | 0     | 0     | ⋯     | NA    | 2     | -1    | 2     | 0.90  | 1     | 23    | NA    | NA    | 3     | \n",
       "| 3     | 50006 | 3     | 3     | 5     | 0     | 10    | 10    | 0     | 0     | ⋯     | NA    | 2     | -1    | 2     | 0.99  | 7     |  8    | NA    | NA    | 3     | \n",
       "\n",
       "\n"
      ],
      "text/plain": [
       "  CASEID ID    Q1A Q1B Q1C1 Q1C2 Q1C3 Q1C4 Q1C5 Q1C6 ⋯ Q5I3 Q5I4 ZIPCODE GENDER\n",
       "1 1      50001 5   3   0    0     0    0   0    0    ⋯ NA   1    -1      1     \n",
       "2 2      50005 3   2   5    2     2    5   0    0    ⋯ NA   2    -1      2     \n",
       "3 3      50006 3   3   5    0    10   10   0    0    ⋯ NA   2    -1      2     \n",
       "  WEIGHT DISTRICT STATE USRCOFIX CM_SEG VERSION\n",
       "1 5.43   3        33    NA       NA     3      \n",
       "2 0.90   1        23    NA       NA     3      \n",
       "3 0.99   7         8    NA       NA     3      "
      ]
     },
     "metadata": {},
     "output_type": "display_data"
    }
   ],
   "source": [
    "head(data, 3)"
   ]
  },
  {
   "cell_type": "code",
   "execution_count": null,
   "metadata": {
    "collapsed": true
   },
   "outputs": [],
   "source": []
  },
  {
   "cell_type": "code",
   "execution_count": null,
   "metadata": {
    "collapsed": true
   },
   "outputs": [],
   "source": []
  }
 ],
 "metadata": {
  "kernelspec": {
   "display_name": "R",
   "language": "R",
   "name": "ir"
  },
  "language_info": {
   "codemirror_mode": "r",
   "file_extension": ".r",
   "mimetype": "text/x-r-source",
   "name": "R",
   "pygments_lexer": "r",
   "version": "3.4.3"
  }
 },
 "nbformat": 4,
 "nbformat_minor": 2
}
